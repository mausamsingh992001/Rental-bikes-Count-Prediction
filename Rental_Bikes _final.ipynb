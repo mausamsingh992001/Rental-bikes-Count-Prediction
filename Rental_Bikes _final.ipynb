{
  "cells": [
    {
      "cell_type": "code",
      "execution_count": null,
      "id": "5b4d5ba7",
      "metadata": {
        "id": "5b4d5ba7"
      },
      "outputs": [],
      "source": [
        "import pandas as pd\n",
        "import numpy as np\n",
        "import matplotlib.pyplot as plt\n",
        "import seaborn as sns\n",
        "import warnings\n",
        "warnings.filterwarnings('ignore')\n",
        "from datetime import datetime\n",
        "from sklearn.preprocessing import StandardScaler\n",
        "from sklearn.model_selection import train_test_split\n",
        "from sklearn.metrics import mean_squared_error,r2_score,mean_absolute_error\n",
        "from sklearn.linear_model import LinearRegression\n",
        "from sklearn.tree import DecisionTreeRegressor\n",
        "from sklearn.ensemble import RandomForestRegressor\n",
        "# from lightgbm import LGBMRegressor"
      ]
    },
    {
      "cell_type": "code",
      "execution_count": null,
      "id": "61c86893",
      "metadata": {
        "id": "61c86893"
      },
      "outputs": [],
      "source": [
        "df=pd.read_csv('train.csv')"
      ]
    },
    {
      "cell_type": "code",
      "execution_count": null,
      "id": "4c8de6bc",
      "metadata": {
        "colab": {
          "base_uri": "https://localhost:8080/",
          "height": 206
        },
        "id": "4c8de6bc",
        "outputId": "9133057d-ec9c-43ef-8a01-8d80acd3d370"
      },
      "outputs": [
        {
          "data": {
            "text/html": [
              "<div>\n",
              "<style scoped>\n",
              "    .dataframe tbody tr th:only-of-type {\n",
              "        vertical-align: middle;\n",
              "    }\n",
              "\n",
              "    .dataframe tbody tr th {\n",
              "        vertical-align: top;\n",
              "    }\n",
              "\n",
              "    .dataframe thead th {\n",
              "        text-align: right;\n",
              "    }\n",
              "</style>\n",
              "<table border=\"1\" class=\"dataframe\">\n",
              "  <thead>\n",
              "    <tr style=\"text-align: right;\">\n",
              "      <th></th>\n",
              "      <th>id</th>\n",
              "      <th>Date</th>\n",
              "      <th>Count</th>\n",
              "      <th>Hour</th>\n",
              "      <th>Hotness</th>\n",
              "      <th>Humidity</th>\n",
              "      <th>Wind Speed</th>\n",
              "      <th>Visibility</th>\n",
              "      <th>Solar Radiation</th>\n",
              "      <th>Rainfall</th>\n",
              "      <th>Snowfall</th>\n",
              "      <th>Seasons</th>\n",
              "      <th>Holiday</th>\n",
              "      <th>Working Day</th>\n",
              "    </tr>\n",
              "  </thead>\n",
              "  <tbody>\n",
              "    <tr>\n",
              "      <th>0</th>\n",
              "      <td>1</td>\n",
              "      <td>05/08/2018</td>\n",
              "      <td>222</td>\n",
              "      <td>6:00</td>\n",
              "      <td>300.3</td>\n",
              "      <td>83</td>\n",
              "      <td>5.04</td>\n",
              "      <td>1080</td>\n",
              "      <td>0.00</td>\n",
              "      <td>0.0</td>\n",
              "      <td>0.0</td>\n",
              "      <td>Summer</td>\n",
              "      <td>NO</td>\n",
              "      <td>YES</td>\n",
              "    </tr>\n",
              "    <tr>\n",
              "      <th>1</th>\n",
              "      <td>2</td>\n",
              "      <td>21/01/2018</td>\n",
              "      <td>170</td>\n",
              "      <td>23:00</td>\n",
              "      <td>272.6</td>\n",
              "      <td>32</td>\n",
              "      <td>2.16</td>\n",
              "      <td>2000</td>\n",
              "      <td>0.00</td>\n",
              "      <td>0.0</td>\n",
              "      <td>0.0</td>\n",
              "      <td>Winter</td>\n",
              "      <td>NO</td>\n",
              "      <td>YES</td>\n",
              "    </tr>\n",
              "    <tr>\n",
              "      <th>2</th>\n",
              "      <td>3</td>\n",
              "      <td>11/05/2018</td>\n",
              "      <td>486</td>\n",
              "      <td>6:00</td>\n",
              "      <td>285.0</td>\n",
              "      <td>83</td>\n",
              "      <td>1.44</td>\n",
              "      <td>321</td>\n",
              "      <td>0.01</td>\n",
              "      <td>0.0</td>\n",
              "      <td>0.0</td>\n",
              "      <td>Spring</td>\n",
              "      <td>NO</td>\n",
              "      <td>YES</td>\n",
              "    </tr>\n",
              "    <tr>\n",
              "      <th>3</th>\n",
              "      <td>4</td>\n",
              "      <td>05/07/2018</td>\n",
              "      <td>929</td>\n",
              "      <td>13:00</td>\n",
              "      <td>301.1</td>\n",
              "      <td>67</td>\n",
              "      <td>3.96</td>\n",
              "      <td>1772</td>\n",
              "      <td>1.43</td>\n",
              "      <td>0.0</td>\n",
              "      <td>0.0</td>\n",
              "      <td>Summer</td>\n",
              "      <td>NO</td>\n",
              "      <td>YES</td>\n",
              "    </tr>\n",
              "    <tr>\n",
              "      <th>4</th>\n",
              "      <td>5</td>\n",
              "      <td>02/01/2018</td>\n",
              "      <td>58</td>\n",
              "      <td>5:00</td>\n",
              "      <td>269.9</td>\n",
              "      <td>67</td>\n",
              "      <td>2.16</td>\n",
              "      <td>1384</td>\n",
              "      <td>0.00</td>\n",
              "      <td>0.0</td>\n",
              "      <td>0.0</td>\n",
              "      <td>Winter</td>\n",
              "      <td>NO</td>\n",
              "      <td>YES</td>\n",
              "    </tr>\n",
              "  </tbody>\n",
              "</table>\n",
              "</div>"
            ],
            "text/plain": [
              "   id        Date  Count   Hour  Hotness  Humidity  Wind Speed  Visibility  \\\n",
              "0   1  05/08/2018    222   6:00    300.3        83        5.04        1080   \n",
              "1   2  21/01/2018    170  23:00    272.6        32        2.16        2000   \n",
              "2   3  11/05/2018    486   6:00    285.0        83        1.44         321   \n",
              "3   4  05/07/2018    929  13:00    301.1        67        3.96        1772   \n",
              "4   5  02/01/2018     58   5:00    269.9        67        2.16        1384   \n",
              "\n",
              "   Solar Radiation  Rainfall  Snowfall Seasons Holiday Working Day  \n",
              "0             0.00       0.0       0.0  Summer      NO         YES  \n",
              "1             0.00       0.0       0.0  Winter      NO         YES  \n",
              "2             0.01       0.0       0.0  Spring      NO         YES  \n",
              "3             1.43       0.0       0.0  Summer      NO         YES  \n",
              "4             0.00       0.0       0.0  Winter      NO         YES  "
            ]
          },
          "execution_count": 3,
          "metadata": {},
          "output_type": "execute_result"
        }
      ],
      "source": [
        "df.head()"
      ]
    },
    {
      "cell_type": "code",
      "execution_count": null,
      "id": "SMSxjgR_EUCX",
      "metadata": {
        "colab": {
          "base_uri": "https://localhost:8080/",
          "height": 300
        },
        "id": "SMSxjgR_EUCX",
        "outputId": "66de449b-3e9c-473e-cc7b-f54babee67ef"
      },
      "outputs": [
        {
          "data": {
            "text/html": [
              "<div>\n",
              "<style scoped>\n",
              "    .dataframe tbody tr th:only-of-type {\n",
              "        vertical-align: middle;\n",
              "    }\n",
              "\n",
              "    .dataframe tbody tr th {\n",
              "        vertical-align: top;\n",
              "    }\n",
              "\n",
              "    .dataframe thead th {\n",
              "        text-align: right;\n",
              "    }\n",
              "</style>\n",
              "<table border=\"1\" class=\"dataframe\">\n",
              "  <thead>\n",
              "    <tr style=\"text-align: right;\">\n",
              "      <th></th>\n",
              "      <th>id</th>\n",
              "      <th>Count</th>\n",
              "      <th>Hotness</th>\n",
              "      <th>Humidity</th>\n",
              "      <th>Wind Speed</th>\n",
              "      <th>Visibility</th>\n",
              "      <th>Solar Radiation</th>\n",
              "      <th>Rainfall</th>\n",
              "      <th>Snowfall</th>\n",
              "    </tr>\n",
              "  </thead>\n",
              "  <tbody>\n",
              "    <tr>\n",
              "      <th>count</th>\n",
              "      <td>4986.000000</td>\n",
              "      <td>4986.000000</td>\n",
              "      <td>4986.000000</td>\n",
              "      <td>4986.000000</td>\n",
              "      <td>4986.000000</td>\n",
              "      <td>4986.000000</td>\n",
              "      <td>4986.000000</td>\n",
              "      <td>4986.000000</td>\n",
              "      <td>4986.00000</td>\n",
              "    </tr>\n",
              "    <tr>\n",
              "      <th>mean</th>\n",
              "      <td>2493.500000</td>\n",
              "      <td>705.851986</td>\n",
              "      <td>285.977778</td>\n",
              "      <td>58.247493</td>\n",
              "      <td>6.159495</td>\n",
              "      <td>1432.546731</td>\n",
              "      <td>0.576897</td>\n",
              "      <td>0.154673</td>\n",
              "      <td>0.06775</td>\n",
              "    </tr>\n",
              "    <tr>\n",
              "      <th>std</th>\n",
              "      <td>1439.478551</td>\n",
              "      <td>646.444092</td>\n",
              "      <td>11.838222</td>\n",
              "      <td>20.373339</td>\n",
              "      <td>3.679312</td>\n",
              "      <td>605.976182</td>\n",
              "      <td>0.874589</td>\n",
              "      <td>1.121118</td>\n",
              "      <td>0.40789</td>\n",
              "    </tr>\n",
              "    <tr>\n",
              "      <th>min</th>\n",
              "      <td>1.000000</td>\n",
              "      <td>0.000000</td>\n",
              "      <td>255.200000</td>\n",
              "      <td>0.000000</td>\n",
              "      <td>0.000000</td>\n",
              "      <td>33.000000</td>\n",
              "      <td>0.000000</td>\n",
              "      <td>0.000000</td>\n",
              "      <td>0.00000</td>\n",
              "    </tr>\n",
              "    <tr>\n",
              "      <th>25%</th>\n",
              "      <td>1247.250000</td>\n",
              "      <td>191.000000</td>\n",
              "      <td>276.700000</td>\n",
              "      <td>43.000000</td>\n",
              "      <td>3.240000</td>\n",
              "      <td>942.250000</td>\n",
              "      <td>0.000000</td>\n",
              "      <td>0.000000</td>\n",
              "      <td>0.00000</td>\n",
              "    </tr>\n",
              "    <tr>\n",
              "      <th>50%</th>\n",
              "      <td>2493.500000</td>\n",
              "      <td>505.000000</td>\n",
              "      <td>286.700000</td>\n",
              "      <td>57.000000</td>\n",
              "      <td>5.400000</td>\n",
              "      <td>1678.000000</td>\n",
              "      <td>0.010000</td>\n",
              "      <td>0.000000</td>\n",
              "      <td>0.00000</td>\n",
              "    </tr>\n",
              "    <tr>\n",
              "      <th>75%</th>\n",
              "      <td>3739.750000</td>\n",
              "      <td>1066.750000</td>\n",
              "      <td>295.400000</td>\n",
              "      <td>74.000000</td>\n",
              "      <td>8.280000</td>\n",
              "      <td>1999.000000</td>\n",
              "      <td>0.950000</td>\n",
              "      <td>0.000000</td>\n",
              "      <td>0.00000</td>\n",
              "    </tr>\n",
              "    <tr>\n",
              "      <th>max</th>\n",
              "      <td>4986.000000</td>\n",
              "      <td>3556.000000</td>\n",
              "      <td>312.400000</td>\n",
              "      <td>98.000000</td>\n",
              "      <td>26.280000</td>\n",
              "      <td>2000.000000</td>\n",
              "      <td>3.520000</td>\n",
              "      <td>29.500000</td>\n",
              "      <td>8.80000</td>\n",
              "    </tr>\n",
              "  </tbody>\n",
              "</table>\n",
              "</div>"
            ],
            "text/plain": [
              "                id        Count      Hotness     Humidity   Wind Speed  \\\n",
              "count  4986.000000  4986.000000  4986.000000  4986.000000  4986.000000   \n",
              "mean   2493.500000   705.851986   285.977778    58.247493     6.159495   \n",
              "std    1439.478551   646.444092    11.838222    20.373339     3.679312   \n",
              "min       1.000000     0.000000   255.200000     0.000000     0.000000   \n",
              "25%    1247.250000   191.000000   276.700000    43.000000     3.240000   \n",
              "50%    2493.500000   505.000000   286.700000    57.000000     5.400000   \n",
              "75%    3739.750000  1066.750000   295.400000    74.000000     8.280000   \n",
              "max    4986.000000  3556.000000   312.400000    98.000000    26.280000   \n",
              "\n",
              "        Visibility  Solar Radiation     Rainfall    Snowfall  \n",
              "count  4986.000000      4986.000000  4986.000000  4986.00000  \n",
              "mean   1432.546731         0.576897     0.154673     0.06775  \n",
              "std     605.976182         0.874589     1.121118     0.40789  \n",
              "min      33.000000         0.000000     0.000000     0.00000  \n",
              "25%     942.250000         0.000000     0.000000     0.00000  \n",
              "50%    1678.000000         0.010000     0.000000     0.00000  \n",
              "75%    1999.000000         0.950000     0.000000     0.00000  \n",
              "max    2000.000000         3.520000    29.500000     8.80000  "
            ]
          },
          "execution_count": 4,
          "metadata": {},
          "output_type": "execute_result"
        }
      ],
      "source": [
        "df.describe()"
      ]
    },
    {
      "cell_type": "code",
      "execution_count": null,
      "id": "HBeIjVXUEaRp",
      "metadata": {
        "colab": {
          "base_uri": "https://localhost:8080/"
        },
        "id": "HBeIjVXUEaRp",
        "outputId": "9e95816c-5bd0-402b-cb6d-5b4482d115e0"
      },
      "outputs": [
        {
          "name": "stdout",
          "output_type": "stream",
          "text": [
            "<class 'pandas.core.frame.DataFrame'>\n",
            "RangeIndex: 4986 entries, 0 to 4985\n",
            "Data columns (total 14 columns):\n",
            " #   Column           Non-Null Count  Dtype  \n",
            "---  ------           --------------  -----  \n",
            " 0   id               4986 non-null   int64  \n",
            " 1   Date             4986 non-null   object \n",
            " 2   Count            4986 non-null   int64  \n",
            " 3   Hour             4986 non-null   object \n",
            " 4   Hotness          4986 non-null   float64\n",
            " 5   Humidity         4986 non-null   int64  \n",
            " 6   Wind Speed       4986 non-null   float64\n",
            " 7   Visibility       4986 non-null   int64  \n",
            " 8   Solar Radiation  4986 non-null   float64\n",
            " 9   Rainfall         4986 non-null   float64\n",
            " 10  Snowfall         4986 non-null   float64\n",
            " 11  Seasons          4986 non-null   object \n",
            " 12  Holiday          4986 non-null   object \n",
            " 13  Working Day      4986 non-null   object \n",
            "dtypes: float64(5), int64(4), object(5)\n",
            "memory usage: 545.5+ KB\n"
          ]
        }
      ],
      "source": [
        "df.info()"
      ]
    },
    {
      "cell_type": "code",
      "execution_count": null,
      "id": "qR8kPUz4Ef8V",
      "metadata": {
        "colab": {
          "base_uri": "https://localhost:8080/"
        },
        "id": "qR8kPUz4Ef8V",
        "outputId": "4c09c785-64ab-40f0-e818-a23be6564c72"
      },
      "outputs": [
        {
          "data": {
            "text/plain": [
              "id                 0\n",
              "Date               0\n",
              "Count              0\n",
              "Hour               0\n",
              "Hotness            0\n",
              "Humidity           0\n",
              "Wind Speed         0\n",
              "Visibility         0\n",
              "Solar Radiation    0\n",
              "Rainfall           0\n",
              "Snowfall           0\n",
              "Seasons            0\n",
              "Holiday            0\n",
              "Working Day        0\n",
              "dtype: int64"
            ]
          },
          "execution_count": 6,
          "metadata": {},
          "output_type": "execute_result"
        }
      ],
      "source": [
        "df.isnull().sum()"
      ]
    },
    {
      "cell_type": "code",
      "execution_count": null,
      "id": "0NhwGI38NpR_",
      "metadata": {
        "colab": {
          "base_uri": "https://localhost:8080/",
          "height": 422
        },
        "id": "0NhwGI38NpR_",
        "outputId": "04c134d9-b4f9-4ecf-be68-905e29a52d08"
      },
      "outputs": [
        {
          "data": {
            "text/plain": [
              "[Text(0.5, 1.0, 'Theoritical quantiles')]"
            ]
          },
          "execution_count": 7,
          "metadata": {},
          "output_type": "execute_result"
        },
        {
          "data": {
            "image/png": "[encoded data removed]",
            "text/plain": [
              "<Figure size 1440x432 with 2 Axes>"
            ]
          },
          "metadata": {
            "needs_background": "light"
          },
          "output_type": "display_data"
        }
      ],
      "source": [
        "from statsmodels.graphics.gofplots import qqplot\n",
        "fig, (ax1,ax2) = plt.subplots(ncols=2, figsize=(20,6))\n",
        "sns.distplot(df['Count'], ax=ax1)\n",
        "ax1.set(title='Distribution of the users')\n",
        "qqplot(df['Count'], ax=ax2, line='s')\n",
        "ax2.set(title='Theoritical quantiles')\n",
        "\n"
      ]
    },
    {
      "cell_type": "code",
      "execution_count": null,
      "id": "x-oscJ2VOeV6",
      "metadata": {
        "colab": {
          "base_uri": "https://localhost:8080/",
          "height": 612
        },
        "id": "x-oscJ2VOeV6",
        "outputId": "e2106ecd-c9b4-4262-fb88-df2a8b257d96"
      },
      "outputs": [
        {
          "data": {
            "text/plain": [
              "<AxesSubplot:>"
            ]
          },
          "execution_count": 8,
          "metadata": {},
          "output_type": "execute_result"
        },
        {
          "data": {
            "image/png": "[encoded data removed]",
            "text/plain": [
              "<Figure size 1080x720 with 2 Axes>"
            ]
          },
          "metadata": {
            "needs_background": "light"
          },
          "output_type": "display_data"
        }
      ],
      "source": [
        "corr = df.corr()\n",
        "plt.figure(figsize=(15,10))\n",
        "sns.heatmap(corr, annot=True, annot_kws={'size':15})"
      ]
    },
    {
      "cell_type": "code",
      "execution_count": null,
      "id": "bbeae6ca",
      "metadata": {
        "id": "bbeae6ca"
      },
      "outputs": [],
      "source": [
        "def one_hot_encoding(data, column):\n",
        "    data = pd.concat([data, pd.get_dummies(data[column], prefix=column, drop_first=True)], axis=1)\n",
        "    data = data.drop([column], axis=1)\n",
        "    return data\n",
        "\n",
        "\n",
        "def prep(df):\n",
        "    df = df.drop(['id'], axis=1)\n",
        "    df['Date'] = df['Date'].apply(lambda x:datetime.strptime(x, \"%d/%m/%Y\").strftime(\"%Y-%m-%d\"))\n",
        "    df['Date'] = pd.to_datetime(df['Date'])\n",
        "    df['Hour'] = df['Hour'].apply(lambda x: x.split(':', 1)[0])\n",
        "    df['Hour']=df['Hour'].astype(int)\n",
        "    df['year'] = pd.to_datetime(df['Date']).dt.year\n",
        "    df['month'] = pd.to_datetime(df['Date']).dt.month\n",
        "    df['day'] = df['Date'].apply(lambda x : x.dayofweek)\n",
        "    df['Seasons']= df['Seasons'].map({\"Winter\":1,\"Summer\":2,\"Spring\":3,\"Autumn\":4})\n",
        "    df['Holiday'] = df['Holiday'].apply(lambda x: 1 if x==\"YES\" else 0)\n",
        "    df['Working Day'] = df['Working Day'].apply(lambda x: 1 if x==\"YES\" else 0)\n",
        "    # cols = [\n",
        "    #         # 'Seasons','month','Hour',\n",
        "    #         'Holiday','day','Working Day'\n",
        "    #         ]\n",
        "    # df_oh = df\n",
        "    # for col in cols:\n",
        "    #     df_oh = one_hot_encoding(df_oh, col)\n",
        "    X = df.drop(columns=['Date'], axis=1)\n",
        "    return X"
      ]
    },
    {
      "cell_type": "code",
      "execution_count": null,
      "id": "636ea035",
      "metadata": {
        "id": "636ea035"
      },
      "outputs": [],
      "source": [
        "y = df['Count']\n",
        "x = prep(df)\n",
        "x = x.drop(['Count'] , axis = 1)"
      ]
    },
    {
      "cell_type": "code",
      "execution_count": null,
      "id": "e67056ff",
      "metadata": {
        "id": "e67056ff"
      },
      "outputs": [],
      "source": [
        "from sklearn.model_selection import train_test_split\n",
        "x_train, x_test, y_train, y_test = train_test_split(x, y, test_size=0.2, random_state=42)"
      ]
    },
    {
      "cell_type": "code",
      "execution_count": null,
      "id": "d0492dc4",
      "metadata": {
        "id": "d0492dc4"
      },
      "outputs": [],
      "source": [
        "model = RandomForestRegressor()\n",
        "model.fit(x_train, y_train)\n",
        "y_pred = model.predict(x_test)"
      ]
    },
    {
      "cell_type": "code",
      "execution_count": null,
      "id": "33ca5e52",
      "metadata": {
        "colab": {
          "base_uri": "https://localhost:8080/"
        },
        "id": "33ca5e52",
        "outputId": "b76d9139-23dd-4dda-c8a6-e7da06ef6212"
      },
      "outputs": [
        {
          "data": {
            "text/plain": [
              "168.5587456555546"
            ]
          },
          "execution_count": 13,
          "metadata": {},
          "output_type": "execute_result"
        }
      ],
      "source": [
        "from sklearn.metrics import mean_squared_error\n",
        "np.sqrt(mean_squared_error(y_test, y_pred))"
      ]
    },
    {
      "cell_type": "code",
      "execution_count": null,
      "id": "a8adf612",
      "metadata": {
        "id": "a8adf612"
      },
      "outputs": [],
      "source": [
        "# from sklearn.ensemble import BaggingRegressor\n",
        "# from sklearn.tree import ExtraTreeRegressor\n",
        "# extra_tree = ExtraTreeRegressor(random_state=0)\n",
        "# reg = BaggingRegressor(extra_tree, random_state=0).fit(x_train, y_train)\n",
        "# reg.score(x_test, y_test)\n",
        "# y_pred = reg.predict(x_test)\n",
        "# np.sqrt(mean_squared_error(y_test, y_pred))"
      ]
    },
    {
      "cell_type": "code",
      "execution_count": null,
      "id": "c9204141",
      "metadata": {
        "colab": {
          "base_uri": "https://localhost:8080/"
        },
        "id": "c9204141",
        "outputId": "05f967ae-bce2-4309-aab2-ba7abcdef87c"
      },
      "outputs": [
        {
          "data": {
            "text/plain": [
              "0.9318947859359684"
            ]
          },
          "execution_count": 15,
          "metadata": {},
          "output_type": "execute_result"
        }
      ],
      "source": [
        "mdl = RandomForestRegressor()\n",
        "mdl.fit(x_train , y_train)\n",
        "mdl.score(x_test , y_test)"
      ]
    },
    {
      "cell_type": "code",
      "execution_count": null,
      "id": "006ecb86",
      "metadata": {
        "colab": {
          "base_uri": "https://localhost:8080/"
        },
        "id": "006ecb86",
        "outputId": "0c8514e8-9d05-4fa9-e59f-1f2db897cc4e"
      },
      "outputs": [
        {
          "data": {
            "text/plain": [
              "167.55978460876665"
            ]
          },
          "execution_count": 16,
          "metadata": {},
          "output_type": "execute_result"
        }
      ],
      "source": [
        "y_pred = mdl.predict(x_test)\n",
        "np.sqrt(mean_squared_error(y_test, y_pred))"
      ]
    },
    {
      "cell_type": "code",
      "execution_count": null,
      "id": "e84c584b",
      "metadata": {
        "id": "e84c584b"
      },
      "outputs": [],
      "source": [
        "# from sklearn.model_selection import GridSearchCV\n",
        "\n",
        "# regr = RandomForestRegressor()\n",
        "\n",
        "# parameters = {'n_estimators':[200] , 'min_samples_split':[2]}\n",
        "# clf = GridSearchCV(regr , parameters)"
      ]
    },
    {
      "cell_type": "code",
      "execution_count": null,
      "id": "9ddd50f9",
      "metadata": {
        "id": "9ddd50f9"
      },
      "outputs": [],
      "source": [
        "# clf.fit(x_train , y_train)"
      ]
    },
    {
      "cell_type": "code",
      "execution_count": null,
      "id": "72ad7cb6",
      "metadata": {
        "id": "72ad7cb6"
      },
      "outputs": [],
      "source": [
        "# clf.best_score_"
      ]
    },
    {
      "cell_type": "code",
      "execution_count": null,
      "id": "b3a22b19",
      "metadata": {
        "colab": {
          "base_uri": "https://localhost:8080/"
        },
        "id": "b3a22b19",
        "outputId": "1e760d15-de71-4c56-8e62-e5ab24191d37"
      },
      "outputs": [
        {
          "data": {
            "text/plain": [
              "0.9320102444191134"
            ]
          },
          "execution_count": 20,
          "metadata": {},
          "output_type": "execute_result"
        }
      ],
      "source": [
        "regr = RandomForestRegressor(n_estimators=200, max_depth=50, min_samples_split=2)\n",
        "regr.fit(x_train , y_train)\n",
        "regr.score(x_test , y_test)"
      ]
    },
    {
      "cell_type": "code",
      "execution_count": null,
      "id": "13d02dac",
      "metadata": {
        "colab": {
          "base_uri": "https://localhost:8080/"
        },
        "id": "13d02dac",
        "outputId": "8c2791a7-8a05-4ed0-91ee-d8101e00ab10"
      },
      "outputs": [
        {
          "data": {
            "text/plain": [
              "167.41769266196903"
            ]
          },
          "execution_count": 21,
          "metadata": {},
          "output_type": "execute_result"
        }
      ],
      "source": [
        "y_pred = regr.predict(x_test)\n",
        "np.sqrt(mean_squared_error(y_test, y_pred))"
      ]
    },
    {
      "cell_type": "code",
      "execution_count": null,
      "id": "563e9533",
      "metadata": {
        "id": "563e9533"
      },
      "outputs": [],
      "source": [
        "# from sklearn.model_selection import cross_val_score, cross_val_predict\n",
        "# score=cross_val_score(regr,x,y,cv=5)"
      ]
    },
    {
      "cell_type": "code",
      "execution_count": null,
      "id": "5c8abe27",
      "metadata": {
        "id": "5c8abe27"
      },
      "outputs": [],
      "source": [
        "# score.mean()"
      ]
    },
    {
      "cell_type": "code",
      "execution_count": null,
      "id": "546832ac",
      "metadata": {
        "id": "546832ac"
      },
      "outputs": [],
      "source": [
        ""
      ]
    },
    {
      "cell_type": "code",
      "execution_count": null,
      "id": "c392c7a1",
      "metadata": {
        "id": "c392c7a1"
      },
      "outputs": [],
      "source": [
        ""
      ]
    },
    {
      "cell_type": "code",
      "execution_count": null,
      "id": "bfd779ae",
      "metadata": {
        "id": "bfd779ae"
      },
      "outputs": [],
      "source": [
        "df_test = pd.read_csv('test.csv')\n",
        "df_test_prep = prep(df_test)\n",
        "y_pred = regr.predict(df_test_prep)\n",
        "# y_min = np.exp(y_pred)"
      ]
    },
    {
      "cell_type": "code",
      "execution_count": null,
      "id": "e_od_cy7O0bj",
      "metadata": {
        "id": "e_od_cy7O0bj"
      },
      "outputs": [],
      "source": [
        "result = pd.DataFrame()\n",
        "result['id']=df_test['id']\n",
        "result['Count'] = np.round_(np.array(y_pred), decimals=0, out=None)\n",
        "result['Count'] = result['Count'].astype(int)\n",
        "result.to_csv( 'result.csv' , index=False)"
      ]
    },
    {
      "cell_type": "code",
      "execution_count": null,
      "id": "abdc3ec0",
      "metadata": {
        "id": "abdc3ec0"
      },
      "outputs": [],
      "source": [
        "import lightgbm as lgb\n",
        "from sklearn.model_selection import GridSearchCV\n"
      ]
    },
    {
      "cell_type": "code",
      "execution_count": null,
      "id": "82427340",
      "metadata": {
        "id": "82427340"
      },
      "outputs": [],
      "source": [
        "lgbr=lgb.LGBMRegressor()\n"
      ]
    },
    {
      "cell_type": "code",
      "execution_count": null,
      "id": "83fcc4b2",
      "metadata": {
        "id": "83fcc4b2"
      },
      "outputs": [],
      "source": [
        "lgbr_para={'n_estimators': [150,200,250],'max_depth': [7,10,13]}\n",
        "lgbr_grid=GridSearchCV(estimator=lgbr,param_grid=lgbr_para,cv=5,scoring='neg_mean_squared_error',verbose=5,n_jobs=-1)"
      ]
    },
    {
      "cell_type": "code",
      "execution_count": null,
      "id": "97b38dd6",
      "metadata": {
        "id": "97b38dd6",
        "outputId": "d14b3467-358c-4842-f1f9-d732918ad0fb"
      },
      "outputs": [
        {
          "name": "stdout",
          "output_type": "stream",
          "text": [
            "Fitting 5 folds for each of 9 candidates, totalling 45 fits\n"
          ]
        },
        {
          "data": {
            "text/plain": [
              "148.15102538838994"
            ]
          },
          "execution_count": 29,
          "metadata": {},
          "output_type": "execute_result"
        }
      ],
      "source": [
        "lgbr_grid.fit(x_train,y_train)\n",
        "y_pred = lgbr_grid.predict(x_test)\n",
        "np.sqrt(mean_squared_error(y_test, y_pred))"
      ]
    },
    {
      "cell_type": "code",
      "execution_count": null,
      "id": "e3189e86",
      "metadata": {
        "id": "e3189e86"
      },
      "outputs": [],
      "source": [
        "y_pred = lgbr_grid.predict(df_test_prep)\n",
        "result = pd.DataFrame()\n",
        "result['id']=df_test['id']\n",
        "result['Count'] = np.round_(np.array(y_pred), decimals=0, out=None)\n",
        "result['Count'] = result['Count'].astype(int)\n",
        "result.to_csv( 'result.csv' , index=False)"
      ]
    },
    {
      "cell_type": "code",
      "execution_count": null,
      "id": "a6015cf6",
      "metadata": {
        "id": "a6015cf6",
        "outputId": "af6700d8-9e85-4706-9275-fb2b0cdafb20"
      },
      "outputs": [
        {
          "data": {
            "text/plain": [
              "array([2158.11469592,   71.96628765,  120.22888779, ...,  610.70435081,\n",
              "        260.89653505,  814.75494448])"
            ]
          },
          "execution_count": 31,
          "metadata": {},
          "output_type": "execute_result"
        }
      ],
      "source": [
        "y_pred"
      ]
    },
    {
      "cell_type": "code",
      "execution_count": null,
      "id": "cef19b4a",
      "metadata": {
        "id": "cef19b4a"
      },
      "outputs": [],
      "source": [
        ""
      ]
    },
    {
      "cell_type": "code",
      "execution_count": null,
      "id": "80dc7991",
      "metadata": {
        "id": "80dc7991",
        "outputId": "a2d02a89-dc3f-402f-e162-c167bee7036a"
      },
      "outputs": [
        {
          "data": {
            "text/html": [
              "<div>\n",
              "<style scoped>\n",
              "    .dataframe tbody tr th:only-of-type {\n",
              "        vertical-align: middle;\n",
              "    }\n",
              "\n",
              "    .dataframe tbody tr th {\n",
              "        vertical-align: top;\n",
              "    }\n",
              "\n",
              "    .dataframe thead th {\n",
              "        text-align: right;\n",
              "    }\n",
              "</style>\n",
              "<table border=\"1\" class=\"dataframe\">\n",
              "  <thead>\n",
              "    <tr style=\"text-align: right;\">\n",
              "      <th></th>\n",
              "      <th>Hour</th>\n",
              "      <th>Hotness</th>\n",
              "      <th>Humidity</th>\n",
              "      <th>Wind Speed</th>\n",
              "      <th>Visibility</th>\n",
              "      <th>Solar Radiation</th>\n",
              "      <th>Rainfall</th>\n",
              "      <th>Snowfall</th>\n",
              "      <th>Seasons</th>\n",
              "      <th>Holiday</th>\n",
              "      <th>Working Day</th>\n",
              "      <th>year</th>\n",
              "      <th>month</th>\n",
              "      <th>day</th>\n",
              "    </tr>\n",
              "  </thead>\n",
              "  <tbody>\n",
              "    <tr>\n",
              "      <th>0</th>\n",
              "      <td>6</td>\n",
              "      <td>300.3</td>\n",
              "      <td>83</td>\n",
              "      <td>5.04</td>\n",
              "      <td>1080</td>\n",
              "      <td>0.00</td>\n",
              "      <td>0.0</td>\n",
              "      <td>0.0</td>\n",
              "      <td>2</td>\n",
              "      <td>0</td>\n",
              "      <td>1</td>\n",
              "      <td>2018</td>\n",
              "      <td>8</td>\n",
              "      <td>6</td>\n",
              "    </tr>\n",
              "    <tr>\n",
              "      <th>1</th>\n",
              "      <td>23</td>\n",
              "      <td>272.6</td>\n",
              "      <td>32</td>\n",
              "      <td>2.16</td>\n",
              "      <td>2000</td>\n",
              "      <td>0.00</td>\n",
              "      <td>0.0</td>\n",
              "      <td>0.0</td>\n",
              "      <td>1</td>\n",
              "      <td>0</td>\n",
              "      <td>1</td>\n",
              "      <td>2018</td>\n",
              "      <td>1</td>\n",
              "      <td>6</td>\n",
              "    </tr>\n",
              "    <tr>\n",
              "      <th>2</th>\n",
              "      <td>6</td>\n",
              "      <td>285.0</td>\n",
              "      <td>83</td>\n",
              "      <td>1.44</td>\n",
              "      <td>321</td>\n",
              "      <td>0.01</td>\n",
              "      <td>0.0</td>\n",
              "      <td>0.0</td>\n",
              "      <td>3</td>\n",
              "      <td>0</td>\n",
              "      <td>1</td>\n",
              "      <td>2018</td>\n",
              "      <td>5</td>\n",
              "      <td>4</td>\n",
              "    </tr>\n",
              "    <tr>\n",
              "      <th>3</th>\n",
              "      <td>13</td>\n",
              "      <td>301.1</td>\n",
              "      <td>67</td>\n",
              "      <td>3.96</td>\n",
              "      <td>1772</td>\n",
              "      <td>1.43</td>\n",
              "      <td>0.0</td>\n",
              "      <td>0.0</td>\n",
              "      <td>2</td>\n",
              "      <td>0</td>\n",
              "      <td>1</td>\n",
              "      <td>2018</td>\n",
              "      <td>7</td>\n",
              "      <td>3</td>\n",
              "    </tr>\n",
              "    <tr>\n",
              "      <th>4</th>\n",
              "      <td>5</td>\n",
              "      <td>269.9</td>\n",
              "      <td>67</td>\n",
              "      <td>2.16</td>\n",
              "      <td>1384</td>\n",
              "      <td>0.00</td>\n",
              "      <td>0.0</td>\n",
              "      <td>0.0</td>\n",
              "      <td>1</td>\n",
              "      <td>0</td>\n",
              "      <td>1</td>\n",
              "      <td>2018</td>\n",
              "      <td>1</td>\n",
              "      <td>1</td>\n",
              "    </tr>\n",
              "    <tr>\n",
              "      <th>...</th>\n",
              "      <td>...</td>\n",
              "      <td>...</td>\n",
              "      <td>...</td>\n",
              "      <td>...</td>\n",
              "      <td>...</td>\n",
              "      <td>...</td>\n",
              "      <td>...</td>\n",
              "      <td>...</td>\n",
              "      <td>...</td>\n",
              "      <td>...</td>\n",
              "      <td>...</td>\n",
              "      <td>...</td>\n",
              "      <td>...</td>\n",
              "      <td>...</td>\n",
              "    </tr>\n",
              "    <tr>\n",
              "      <th>4981</th>\n",
              "      <td>19</td>\n",
              "      <td>306.4</td>\n",
              "      <td>51</td>\n",
              "      <td>9.36</td>\n",
              "      <td>2000</td>\n",
              "      <td>0.59</td>\n",
              "      <td>0.0</td>\n",
              "      <td>0.0</td>\n",
              "      <td>2</td>\n",
              "      <td>0</td>\n",
              "      <td>1</td>\n",
              "      <td>2018</td>\n",
              "      <td>7</td>\n",
              "      <td>5</td>\n",
              "    </tr>\n",
              "    <tr>\n",
              "      <th>4982</th>\n",
              "      <td>19</td>\n",
              "      <td>281.4</td>\n",
              "      <td>51</td>\n",
              "      <td>11.88</td>\n",
              "      <td>1977</td>\n",
              "      <td>0.01</td>\n",
              "      <td>0.0</td>\n",
              "      <td>0.0</td>\n",
              "      <td>3</td>\n",
              "      <td>0</td>\n",
              "      <td>1</td>\n",
              "      <td>2018</td>\n",
              "      <td>3</td>\n",
              "      <td>0</td>\n",
              "    </tr>\n",
              "    <tr>\n",
              "      <th>4983</th>\n",
              "      <td>13</td>\n",
              "      <td>295.5</td>\n",
              "      <td>40</td>\n",
              "      <td>9.36</td>\n",
              "      <td>1854</td>\n",
              "      <td>2.64</td>\n",
              "      <td>0.0</td>\n",
              "      <td>0.0</td>\n",
              "      <td>4</td>\n",
              "      <td>1</td>\n",
              "      <td>1</td>\n",
              "      <td>2018</td>\n",
              "      <td>10</td>\n",
              "      <td>2</td>\n",
              "    </tr>\n",
              "    <tr>\n",
              "      <th>4984</th>\n",
              "      <td>21</td>\n",
              "      <td>268.2</td>\n",
              "      <td>59</td>\n",
              "      <td>3.24</td>\n",
              "      <td>2000</td>\n",
              "      <td>0.00</td>\n",
              "      <td>0.0</td>\n",
              "      <td>0.0</td>\n",
              "      <td>1</td>\n",
              "      <td>0</td>\n",
              "      <td>1</td>\n",
              "      <td>2018</td>\n",
              "      <td>1</td>\n",
              "      <td>1</td>\n",
              "    </tr>\n",
              "    <tr>\n",
              "      <th>4985</th>\n",
              "      <td>14</td>\n",
              "      <td>297.3</td>\n",
              "      <td>58</td>\n",
              "      <td>10.44</td>\n",
              "      <td>1211</td>\n",
              "      <td>2.92</td>\n",
              "      <td>0.0</td>\n",
              "      <td>0.0</td>\n",
              "      <td>3</td>\n",
              "      <td>0</td>\n",
              "      <td>1</td>\n",
              "      <td>2018</td>\n",
              "      <td>5</td>\n",
              "      <td>2</td>\n",
              "    </tr>\n",
              "  </tbody>\n",
              "</table>\n",
              "<p>4986 rows × 14 columns</p>\n",
              "</div>"
            ],
            "text/plain": [
              "      Hour  Hotness  Humidity  Wind Speed  Visibility  Solar Radiation  \\\n",
              "0        6    300.3        83        5.04        1080             0.00   \n",
              "1       23    272.6        32        2.16        2000             0.00   \n",
              "2        6    285.0        83        1.44         321             0.01   \n",
              "3       13    301.1        67        3.96        1772             1.43   \n",
              "4        5    269.9        67        2.16        1384             0.00   \n",
              "...    ...      ...       ...         ...         ...              ...   \n",
              "4981    19    306.4        51        9.36        2000             0.59   \n",
              "4982    19    281.4        51       11.88        1977             0.01   \n",
              "4983    13    295.5        40        9.36        1854             2.64   \n",
              "4984    21    268.2        59        3.24        2000             0.00   \n",
              "4985    14    297.3        58       10.44        1211             2.92   \n",
              "\n",
              "      Rainfall  Snowfall  Seasons  Holiday  Working Day  year  month  day  \n",
              "0          0.0       0.0        2        0            1  2018      8    6  \n",
              "1          0.0       0.0        1        0            1  2018      1    6  \n",
              "2          0.0       0.0        3        0            1  2018      5    4  \n",
              "3          0.0       0.0        2        0            1  2018      7    3  \n",
              "4          0.0       0.0        1        0            1  2018      1    1  \n",
              "...        ...       ...      ...      ...          ...   ...    ...  ...  \n",
              "4981       0.0       0.0        2        0            1  2018      7    5  \n",
              "4982       0.0       0.0        3        0            1  2018      3    0  \n",
              "4983       0.0       0.0        4        1            1  2018     10    2  \n",
              "4984       0.0       0.0        1        0            1  2018      1    1  \n",
              "4985       0.0       0.0        3        0            1  2018      5    2  \n",
              "\n",
              "[4986 rows x 14 columns]"
            ]
          },
          "execution_count": 33,
          "metadata": {},
          "output_type": "execute_result"
        }
      ],
      "source": [
        "x"
      ]
    },
    {
      "cell_type": "code",
      "execution_count": null,
      "id": "6a3a08e5",
      "metadata": {
        "id": "6a3a08e5"
      },
      "outputs": [],
      "source": [
        ""
      ]
    },
    {
      "cell_type": "code",
      "execution_count": null,
      "id": "b7accece",
      "metadata": {
        "id": "b7accece"
      },
      "outputs": [],
      "source": [
        ""
      ]
    },
    {
      "cell_type": "code",
      "execution_count": null,
      "id": "a0d71e7b",
      "metadata": {
        "id": "a0d71e7b"
      },
      "outputs": [],
      "source": [
        ""
      ]
    },
    {
      "cell_type": "code",
      "execution_count": null,
      "id": "f496d260",
      "metadata": {
        "id": "f496d260"
      },
      "outputs": [],
      "source": [
        ""
      ]
    },
    {
      "cell_type": "code",
      "execution_count": null,
      "id": "f60beb62",
      "metadata": {
        "id": "f60beb62"
      },
      "outputs": [],
      "source": [
        ""
      ]
    },
    {
      "cell_type": "code",
      "execution_count": null,
      "id": "847a88cc",
      "metadata": {
        "id": "847a88cc"
      },
      "outputs": [],
      "source": [
        ""
      ]
    },
    {
      "cell_type": "code",
      "execution_count": null,
      "id": "9a6321e1",
      "metadata": {
        "id": "9a6321e1"
      },
      "outputs": [],
      "source": [
        ""
      ]
    },
    {
      "cell_type": "code",
      "execution_count": null,
      "id": "33b730df",
      "metadata": {
        "id": "33b730df"
      },
      "outputs": [],
      "source": [
        ""
      ]
    },
    {
      "cell_type": "code",
      "execution_count": null,
      "id": "c3917f9c",
      "metadata": {
        "id": "c3917f9c"
      },
      "outputs": [],
      "source": [
        ""
      ]
    },
    {
      "cell_type": "code",
      "execution_count": null,
      "id": "7f51e843",
      "metadata": {
        "id": "7f51e843"
      },
      "outputs": [],
      "source": [
        ""
      ]
    }
  ],
  "metadata": {
    "colab": {
      "name": "Rental_Bikes.ipynb",
      "provenance": []
    },
    "kernelspec": {
      "display_name": "Python 3 (ipykernel)",
      "language": "python",
      "name": "python3"
    },
    "language_info": {
      "codemirror_mode": {
        "name": "ipython",
        "version": 3
      },
      "file_extension": ".py",
      "mimetype": "text/x-python",
      "name": "python",
      "nbconvert_exporter": "python",
      "pygments_lexer": "ipython3",
      "version": "3.10.2"
    }
  },
  "nbformat": 4,
  "nbformat_minor": 5
}